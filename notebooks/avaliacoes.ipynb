{
 "cells": [
  {
   "cell_type": "code",
   "execution_count": 1,
   "id": "b1dcf370-3686-4fd3-a2c1-72132f91f99e",
   "metadata": {},
   "outputs": [],
   "source": [
    "import pandas as pd"
   ]
  },
  {
   "cell_type": "code",
   "execution_count": 2,
   "id": "587079fb-2197-4ee2-ba45-c09105129b96",
   "metadata": {},
   "outputs": [],
   "source": [
    "df_avaliacoes = pd.read_csv(\"../files/title_ratings.tsv\", sep=\"\\t\", encoding=\"utf-8\")"
   ]
  },
  {
   "cell_type": "code",
   "execution_count": 3,
   "id": "673dd140-3acd-45dd-b1cd-d9a52f8e53e8",
   "metadata": {},
   "outputs": [
    {
     "data": {
      "text/html": [
       "<div>\n",
       "<style scoped>\n",
       "    .dataframe tbody tr th:only-of-type {\n",
       "        vertical-align: middle;\n",
       "    }\n",
       "\n",
       "    .dataframe tbody tr th {\n",
       "        vertical-align: top;\n",
       "    }\n",
       "\n",
       "    .dataframe thead th {\n",
       "        text-align: right;\n",
       "    }\n",
       "</style>\n",
       "<table border=\"1\" class=\"dataframe\">\n",
       "  <thead>\n",
       "    <tr style=\"text-align: right;\">\n",
       "      <th></th>\n",
       "      <th>tconst</th>\n",
       "      <th>averageRating</th>\n",
       "      <th>numVotes</th>\n",
       "    </tr>\n",
       "  </thead>\n",
       "  <tbody>\n",
       "    <tr>\n",
       "      <th>0</th>\n",
       "      <td>tt0000001</td>\n",
       "      <td>5.7</td>\n",
       "      <td>1876</td>\n",
       "    </tr>\n",
       "    <tr>\n",
       "      <th>1</th>\n",
       "      <td>tt0000002</td>\n",
       "      <td>5.9</td>\n",
       "      <td>248</td>\n",
       "    </tr>\n",
       "    <tr>\n",
       "      <th>2</th>\n",
       "      <td>tt0000003</td>\n",
       "      <td>6.5</td>\n",
       "      <td>1648</td>\n",
       "    </tr>\n",
       "    <tr>\n",
       "      <th>3</th>\n",
       "      <td>tt0000004</td>\n",
       "      <td>5.8</td>\n",
       "      <td>160</td>\n",
       "    </tr>\n",
       "    <tr>\n",
       "      <th>4</th>\n",
       "      <td>tt0000005</td>\n",
       "      <td>6.2</td>\n",
       "      <td>2475</td>\n",
       "    </tr>\n",
       "  </tbody>\n",
       "</table>\n",
       "</div>"
      ],
      "text/plain": [
       "      tconst  averageRating  numVotes\n",
       "0  tt0000001            5.7      1876\n",
       "1  tt0000002            5.9       248\n",
       "2  tt0000003            6.5      1648\n",
       "3  tt0000004            5.8       160\n",
       "4  tt0000005            6.2      2475"
      ]
     },
     "execution_count": 3,
     "metadata": {},
     "output_type": "execute_result"
    }
   ],
   "source": [
    "df_avaliacoes.head()"
   ]
  },
  {
   "cell_type": "code",
   "execution_count": 4,
   "id": "a5072c21-63f6-4791-9545-e93b869c11cf",
   "metadata": {},
   "outputs": [
    {
     "data": {
      "text/plain": [
       "(1239452, 3)"
      ]
     },
     "execution_count": 4,
     "metadata": {},
     "output_type": "execute_result"
    }
   ],
   "source": [
    "df_avaliacoes.shape"
   ]
  },
  {
   "cell_type": "code",
   "execution_count": 5,
   "id": "4af03854-4162-4ef8-b726-301b9a4dd2fe",
   "metadata": {},
   "outputs": [
    {
     "data": {
      "text/plain": [
       "array([ 5.7,  5.9,  6.5,  5.8,  6.2,  5.2,  5.4,  5.3,  6.9,  7.4,  7.1,\n",
       "        4.6,  4.8,  5.1,  4.4,  4.3,  5.6,  5.5,  5. ,  4.2,  3.7,  6.8,\n",
       "        3.6,  4.1,  4.9,  3.8,  2.9,  3.2,  7.6,  6.4,  3.4,  3.5,  4.7,\n",
       "        6.3,  4.5,  3.9,  6.7,  6.1,  6.6,  4. ,  6. ,  7.5,  7.3,  8.1,\n",
       "        7.2,  8.2,  8.7,  8. ,  7.9,  7.7,  7. ,  7.8,  8.3,  3.3,  8.5,\n",
       "        3.1,  8.6,  9. ,  9.2,  2.6,  8.4,  3. ,  2.8,  2.3,  2.7,  2.1,\n",
       "        2. ,  2.5,  2.4,  8.8,  8.9,  1.1,  1.4,  9.4,  1. ,  1.3,  2.2,\n",
       "        1.8,  1.6,  9.6,  1.5,  9.7,  1.7,  1.9,  9.3,  9.1, 10. ,  9.5,\n",
       "        9.9,  9.8,  1.2])"
      ]
     },
     "execution_count": 5,
     "metadata": {},
     "output_type": "execute_result"
    }
   ],
   "source": [
    "df_avaliacoes.averageRating.unique()"
   ]
  },
  {
   "cell_type": "code",
   "execution_count": 6,
   "id": "c5e22e3e-e07b-4327-a7f5-13c9bc231053",
   "metadata": {},
   "outputs": [
    {
     "data": {
      "text/plain": [
       "array([ 1876,   248,  1648, ..., 13397, 22181, 91255], dtype=int64)"
      ]
     },
     "execution_count": 6,
     "metadata": {},
     "output_type": "execute_result"
    }
   ],
   "source": [
    "df_avaliacoes.numVotes.unique()"
   ]
  },
  {
   "cell_type": "code",
   "execution_count": 7,
   "id": "984a2992-e0f5-477c-b7b5-6b7cdaa71371",
   "metadata": {},
   "outputs": [
    {
     "data": {
      "text/html": [
       "<div>\n",
       "<style scoped>\n",
       "    .dataframe tbody tr th:only-of-type {\n",
       "        vertical-align: middle;\n",
       "    }\n",
       "\n",
       "    .dataframe tbody tr th {\n",
       "        vertical-align: top;\n",
       "    }\n",
       "\n",
       "    .dataframe thead th {\n",
       "        text-align: right;\n",
       "    }\n",
       "</style>\n",
       "<table border=\"1\" class=\"dataframe\">\n",
       "  <thead>\n",
       "    <tr style=\"text-align: right;\">\n",
       "      <th></th>\n",
       "      <th>tconst</th>\n",
       "      <th>averageRating</th>\n",
       "      <th>numVotes</th>\n",
       "    </tr>\n",
       "  </thead>\n",
       "  <tbody>\n",
       "    <tr>\n",
       "      <th>1054365</th>\n",
       "      <td>tt5700672</td>\n",
       "      <td>7.6</td>\n",
       "      <td>207961</td>\n",
       "    </tr>\n",
       "  </tbody>\n",
       "</table>\n",
       "</div>"
      ],
      "text/plain": [
       "            tconst  averageRating  numVotes\n",
       "1054365  tt5700672            7.6    207961"
      ]
     },
     "execution_count": 7,
     "metadata": {},
     "output_type": "execute_result"
    }
   ],
   "source": [
    "df_avaliacoes[df_avaliacoes.tconst == \"tt5700672\"]"
   ]
  },
  {
   "cell_type": "code",
   "execution_count": null,
   "id": "435f46a2-2c5c-4dfb-9e0a-ad1723667493",
   "metadata": {},
   "outputs": [],
   "source": []
  }
 ],
 "metadata": {
  "kernelspec": {
   "display_name": "Python 3 (ipykernel)",
   "language": "python",
   "name": "python3"
  },
  "language_info": {
   "codemirror_mode": {
    "name": "ipython",
    "version": 3
   },
   "file_extension": ".py",
   "mimetype": "text/x-python",
   "name": "python",
   "nbconvert_exporter": "python",
   "pygments_lexer": "ipython3",
   "version": "3.10.0"
  }
 },
 "nbformat": 4,
 "nbformat_minor": 5
}
