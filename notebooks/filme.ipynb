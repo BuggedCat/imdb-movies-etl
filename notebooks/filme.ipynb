{
 "cells": [
  {
   "cell_type": "code",
   "execution_count": 1,
   "id": "5a502584-0f8f-42b5-bf6e-4e058f67131e",
   "metadata": {},
   "outputs": [],
   "source": [
    "import pandas as pd"
   ]
  },
  {
   "cell_type": "code",
   "execution_count": 2,
   "id": "2eebe0cb-50ef-443f-b124-979525de3924",
   "metadata": {},
   "outputs": [
    {
     "name": "stderr",
     "output_type": "stream",
     "text": [
      "C:\\Users\\Gian\\AppData\\Local\\Temp\\ipykernel_1444\\2628401824.py:2: DtypeWarning: Columns (4,5) have mixed types. Specify dtype option on import or set low_memory=False.\n",
      "  df_filmes = pd.read_csv(caminho_arquivo_filmes, sep=\"\\t\", encoding=\"utf-8\")\n"
     ]
    }
   ],
   "source": [
    "caminho_arquivo_filmes = \"../files/title_basics.tsv\"\n",
    "df_filmes = pd.read_csv(caminho_arquivo_filmes, sep=\"\\t\", encoding=\"utf-8\")"
   ]
  },
  {
   "cell_type": "code",
   "execution_count": 3,
   "id": "e71833a1-86a2-4212-8d8a-a471896385c5",
   "metadata": {},
   "outputs": [
    {
     "data": {
      "text/plain": [
       "(8880201, 9)"
      ]
     },
     "execution_count": 3,
     "metadata": {},
     "output_type": "execute_result"
    }
   ],
   "source": [
    "# Temos 8_880_201 de linhas no total\n",
    "df_filmes.shape"
   ]
  },
  {
   "cell_type": "code",
   "execution_count": 4,
   "id": "11e49efc-a0d1-4081-bdcd-119c934d1104",
   "metadata": {},
   "outputs": [
    {
     "data": {
      "text/plain": [
       "array(['short', 'movie', 'tvEpisode', 'tvSeries', 'tvShort', 'tvMovie',\n",
       "       'tvMiniSeries', 'tvSpecial', 'video', 'videoGame', 'tvPilot'],\n",
       "      dtype=object)"
      ]
     },
     "execution_count": 4,
     "metadata": {},
     "output_type": "execute_result"
    }
   ],
   "source": [
    "df_filmes.titleType.unique()"
   ]
  },
  {
   "cell_type": "code",
   "execution_count": 5,
   "id": "75e81fd3-de9b-41e1-aeeb-c43b59e215bc",
   "metadata": {},
   "outputs": [],
   "source": [
    "# queremos apenas onde o titleType for = 'movie'\n",
    "df_filmes = df_filmes.loc[df_filmes['titleType'] == 'movie']"
   ]
  },
  {
   "cell_type": "code",
   "execution_count": 6,
   "id": "e7af9fd6-5944-4d6e-b6d9-f853dda77d92",
   "metadata": {},
   "outputs": [
    {
     "data": {
      "text/plain": [
       "(608540, 9)"
      ]
     },
     "execution_count": 6,
     "metadata": {},
     "output_type": "execute_result"
    }
   ],
   "source": [
    "# Agora temos 608_540 linhas no total, apenas filmes.\n",
    "df_filmes.shape"
   ]
  },
  {
   "cell_type": "code",
   "execution_count": 7,
   "id": "706c5947-0fc3-4598-8d35-bd1ca49b38a9",
   "metadata": {},
   "outputs": [
    {
     "data": {
      "text/html": [
       "<div>\n",
       "<style scoped>\n",
       "    .dataframe tbody tr th:only-of-type {\n",
       "        vertical-align: middle;\n",
       "    }\n",
       "\n",
       "    .dataframe tbody tr th {\n",
       "        vertical-align: top;\n",
       "    }\n",
       "\n",
       "    .dataframe thead th {\n",
       "        text-align: right;\n",
       "    }\n",
       "</style>\n",
       "<table border=\"1\" class=\"dataframe\">\n",
       "  <thead>\n",
       "    <tr style=\"text-align: right;\">\n",
       "      <th></th>\n",
       "      <th>tconst</th>\n",
       "      <th>titleType</th>\n",
       "      <th>primaryTitle</th>\n",
       "      <th>originalTitle</th>\n",
       "      <th>isAdult</th>\n",
       "      <th>startYear</th>\n",
       "      <th>endYear</th>\n",
       "      <th>runtimeMinutes</th>\n",
       "      <th>genres</th>\n",
       "    </tr>\n",
       "  </thead>\n",
       "  <tbody>\n",
       "    <tr>\n",
       "      <th>498</th>\n",
       "      <td>tt0000502</td>\n",
       "      <td>movie</td>\n",
       "      <td>Bohemios</td>\n",
       "      <td>Bohemios</td>\n",
       "      <td>0</td>\n",
       "      <td>1905</td>\n",
       "      <td>\\N</td>\n",
       "      <td>100</td>\n",
       "      <td>\\N</td>\n",
       "    </tr>\n",
       "    <tr>\n",
       "      <th>570</th>\n",
       "      <td>tt0000574</td>\n",
       "      <td>movie</td>\n",
       "      <td>The Story of the Kelly Gang</td>\n",
       "      <td>The Story of the Kelly Gang</td>\n",
       "      <td>0</td>\n",
       "      <td>1906</td>\n",
       "      <td>\\N</td>\n",
       "      <td>70</td>\n",
       "      <td>Action,Adventure,Biography</td>\n",
       "    </tr>\n",
       "    <tr>\n",
       "      <th>587</th>\n",
       "      <td>tt0000591</td>\n",
       "      <td>movie</td>\n",
       "      <td>The Prodigal Son</td>\n",
       "      <td>L'enfant prodigue</td>\n",
       "      <td>0</td>\n",
       "      <td>1907</td>\n",
       "      <td>\\N</td>\n",
       "      <td>90</td>\n",
       "      <td>Drama</td>\n",
       "    </tr>\n",
       "    <tr>\n",
       "      <th>610</th>\n",
       "      <td>tt0000615</td>\n",
       "      <td>movie</td>\n",
       "      <td>Robbery Under Arms</td>\n",
       "      <td>Robbery Under Arms</td>\n",
       "      <td>0</td>\n",
       "      <td>1907</td>\n",
       "      <td>\\N</td>\n",
       "      <td>\\N</td>\n",
       "      <td>Drama</td>\n",
       "    </tr>\n",
       "    <tr>\n",
       "      <th>625</th>\n",
       "      <td>tt0000630</td>\n",
       "      <td>movie</td>\n",
       "      <td>Hamlet</td>\n",
       "      <td>Amleto</td>\n",
       "      <td>0</td>\n",
       "      <td>1908</td>\n",
       "      <td>\\N</td>\n",
       "      <td>\\N</td>\n",
       "      <td>Drama</td>\n",
       "    </tr>\n",
       "  </tbody>\n",
       "</table>\n",
       "</div>"
      ],
      "text/plain": [
       "        tconst titleType                 primaryTitle  \\\n",
       "498  tt0000502     movie                     Bohemios   \n",
       "570  tt0000574     movie  The Story of the Kelly Gang   \n",
       "587  tt0000591     movie             The Prodigal Son   \n",
       "610  tt0000615     movie           Robbery Under Arms   \n",
       "625  tt0000630     movie                       Hamlet   \n",
       "\n",
       "                   originalTitle isAdult startYear endYear runtimeMinutes  \\\n",
       "498                     Bohemios       0      1905      \\N            100   \n",
       "570  The Story of the Kelly Gang       0      1906      \\N             70   \n",
       "587            L'enfant prodigue       0      1907      \\N             90   \n",
       "610           Robbery Under Arms       0      1907      \\N             \\N   \n",
       "625                       Amleto       0      1908      \\N             \\N   \n",
       "\n",
       "                         genres  \n",
       "498                          \\N  \n",
       "570  Action,Adventure,Biography  \n",
       "587                       Drama  \n",
       "610                       Drama  \n",
       "625                       Drama  "
      ]
     },
     "execution_count": 7,
     "metadata": {},
     "output_type": "execute_result"
    }
   ],
   "source": [
    "df_filmes.head()"
   ]
  },
  {
   "cell_type": "code",
   "execution_count": 8,
   "id": "1ddf7986-3363-4d8e-81d9-340adc6e1246",
   "metadata": {},
   "outputs": [
    {
     "data": {
      "text/plain": [
       "array([0, 1, '0', '1'], dtype=object)"
      ]
     },
     "execution_count": 8,
     "metadata": {},
     "output_type": "execute_result"
    }
   ],
   "source": [
    "# Os tipos estão misturados entre int e string\n",
    "# Futuramente vamos converter os valores todos para Boolean.\n",
    "df_filmes.isAdult.unique()"
   ]
  },
  {
   "cell_type": "code",
   "execution_count": 9,
   "id": "8efd4906-8c88-40ad-b1c6-0506f0f594c7",
   "metadata": {},
   "outputs": [
    {
     "data": {
      "text/plain": [
       "array([1905, 1906, 1907, 1908, 1909, 1910, 1912, 1911, 1913, 1915, 1914,\n",
       "       1919, 1916, 1917, 1936, 1925, 1918, 1920, 1922, 1921, 1924, 1923,\n",
       "       1928, 2019, 1926, 1927, 1929, 2000, 1993, 1935, 1930, 1942, 1932,\n",
       "       1931, 1934, 1939, 1937, 1933, 1950, 1938, 1951, 1946, 1996, 1940,\n",
       "       1944, 1947, 1941, 1952, 1970, 1957, 1943, 1948, 1945, 2001, 1949,\n",
       "       1953, 1954, 1965, 1983, 1980, 1973, 1961, 1955, 1962, 1958, 1956,\n",
       "       1977, 1964, 1960, 1959, 1967, 1968, 1963, 1971, 1969, 1972, 1966,\n",
       "       1976, 1990, 1979, 1981, 2020, 1975, 1978, 1989, 1974, 1986, '1972',\n",
       "       '1971', '1970', '1974', '1973', '1976', '1969', '1981', '1968',\n",
       "       '1995', '1986', '1987', '1975', '1965', '1978', '1967', '1990',\n",
       "       '1980', '1985', '2018', '1977', '1979', '1984', '1966', '1982',\n",
       "       '1988', '1983', '1991', '1963', '2001', '1961', '\\\\N', '1989',\n",
       "       '1994', '1993', '1964', '1957', '2019', '1992', '2005', '1953',\n",
       "       '2004', '1998', '2020', '1947', '2016', '2002', '1996', '2017',\n",
       "       '1997', '2000', '1945', '1956', '2021', '1999', '2006', '1955',\n",
       "       '1949', '2008', '2009', '2003', '2007', '2022', '1930', '1938',\n",
       "       '1959', '1960', '1944', '1935', '1962', '1951', '1954', '1952',\n",
       "       '1958', '1918', '1943', '1921', '1941', '1939', '1940', '1950',\n",
       "       '1946', '1916', '1934', '1948', '1933', '1929', '1936', '1925',\n",
       "       '1932', '1928', '1917', '1919', '1926', '1937', '1931', '1920',\n",
       "       '1942', '1922', '1927', '1923', '1924', '1915', '1914', '1913',\n",
       "       '1911', '2010', '1912', '1909', '1910', '1905', '1898', '1899',\n",
       "       '2012', '1908', '2013', '1906', '1907', '2011', '1904', '2015',\n",
       "       '1897', '1901', '1902', '1900', '1903', '2014', '2024', '2023',\n",
       "       '2025', '2027', '2026', '2028', '2029', '1896'], dtype=object)"
      ]
     },
     "execution_count": 9,
     "metadata": {},
     "output_type": "execute_result"
    }
   ],
   "source": [
    "# Aqui temos tipos estão misturados entre int e string, alem disso temos o valor '\\\\N' que representa os valores Nulos\n",
    "# Futuramente vamos converter os valores todos para Int.\n",
    "df_filmes.startYear.unique()"
   ]
  },
  {
   "cell_type": "code",
   "execution_count": 10,
   "id": "d6b31f83-e5a3-4eeb-aff2-1e3e73a70777",
   "metadata": {},
   "outputs": [
    {
     "data": {
      "text/plain": [
       "array(['\\\\N'], dtype=object)"
      ]
     },
     "execution_count": 10,
     "metadata": {},
     "output_type": "execute_result"
    }
   ],
   "source": [
    "# Todos os valores são Nulos \n",
    "# O que é esperado já que filtramos por apenas filmes.\n",
    "# Esta coluna pode ser descartada para nosso caso futuramente\n",
    "df_filmes.endYear.unique()"
   ]
  },
  {
   "cell_type": "code",
   "execution_count": 11,
   "id": "5cc550f2-c52f-44b0-a5d1-e4bff562d79b",
   "metadata": {},
   "outputs": [
    {
     "data": {
      "text/plain": [
       "\\N     225605\n",
       "90      25839\n",
       "80      11500\n",
       "60      10866\n",
       "85      10786\n",
       "        ...  \n",
       "368         1\n",
       "326         1\n",
       "570         1\n",
       "384         1\n",
       "990         1\n",
       "Name: runtimeMinutes, Length: 490, dtype: int64"
      ]
     },
     "execution_count": 11,
     "metadata": {},
     "output_type": "execute_result"
    }
   ],
   "source": [
    "# A coluna de tempo de duração será convertida em Int futuramente\n",
    "df_filmes.runtimeMinutes.value_counts()"
   ]
  },
  {
   "cell_type": "code",
   "execution_count": 12,
   "id": "2c6d93b1-754b-4730-bd84-d9a61e55ba14",
   "metadata": {},
   "outputs": [],
   "source": [
    "array_generos = df_filmes.genres.unique() # Buscamos os generos de filmes distintos\n",
    "array_generos = \",\".join(array_generos) # Juntamos todos eles usando \",\" como separador\n",
    "array_generos = array_generos.split(\",\") # Quebramos a string em uma lista de generos pela \",\"\n",
    "array_generos = set(array_generos) # Transformamos nossa lista em um Set, pois Sets por definição não tem dados duplicados ;)"
   ]
  },
  {
   "cell_type": "code",
   "execution_count": 13,
   "id": "719a05d8-1054-4776-8fca-0eb9374a7c09",
   "metadata": {},
   "outputs": [
    {
     "data": {
      "text/plain": [
       "{'Action',\n",
       " 'Adult',\n",
       " 'Adventure',\n",
       " 'Animation',\n",
       " 'Biography',\n",
       " 'Comedy',\n",
       " 'Crime',\n",
       " 'Documentary',\n",
       " 'Drama',\n",
       " 'Family',\n",
       " 'Fantasy',\n",
       " 'Film-Noir',\n",
       " 'Game-Show',\n",
       " 'History',\n",
       " 'Horror',\n",
       " 'Music',\n",
       " 'Musical',\n",
       " 'Mystery',\n",
       " 'News',\n",
       " 'Reality-TV',\n",
       " 'Romance',\n",
       " 'Sci-Fi',\n",
       " 'Short',\n",
       " 'Sport',\n",
       " 'Talk-Show',\n",
       " 'Thriller',\n",
       " 'War',\n",
       " 'Western',\n",
       " '\\\\N'}"
      ]
     },
     "execution_count": 13,
     "metadata": {},
     "output_type": "execute_result"
    }
   ],
   "source": [
    "# Com isso temos um Set com todos os generos da base!\n",
    "array_generos"
   ]
  },
  {
   "cell_type": "code",
   "execution_count": 19,
   "id": "4bffd35a-c5cc-4655-8605-b216a3879a94",
   "metadata": {},
   "outputs": [
    {
     "data": {
      "text/html": [
       "<div>\n",
       "<style scoped>\n",
       "    .dataframe tbody tr th:only-of-type {\n",
       "        vertical-align: middle;\n",
       "    }\n",
       "\n",
       "    .dataframe tbody tr th {\n",
       "        vertical-align: top;\n",
       "    }\n",
       "\n",
       "    .dataframe thead th {\n",
       "        text-align: right;\n",
       "    }\n",
       "</style>\n",
       "<table border=\"1\" class=\"dataframe\">\n",
       "  <thead>\n",
       "    <tr style=\"text-align: right;\">\n",
       "      <th></th>\n",
       "      <th>tconst</th>\n",
       "      <th>titleType</th>\n",
       "      <th>primaryTitle</th>\n",
       "      <th>originalTitle</th>\n",
       "      <th>isAdult</th>\n",
       "      <th>startYear</th>\n",
       "      <th>endYear</th>\n",
       "      <th>runtimeMinutes</th>\n",
       "      <th>genres</th>\n",
       "    </tr>\n",
       "  </thead>\n",
       "  <tbody>\n",
       "    <tr>\n",
       "      <th>6959014</th>\n",
       "      <td>tt5700672</td>\n",
       "      <td>movie</td>\n",
       "      <td>Train to Busan</td>\n",
       "      <td>Busanhaeng</td>\n",
       "      <td>0</td>\n",
       "      <td>2016</td>\n",
       "      <td>\\N</td>\n",
       "      <td>118</td>\n",
       "      <td>Action,Horror,Thriller</td>\n",
       "    </tr>\n",
       "  </tbody>\n",
       "</table>\n",
       "</div>"
      ],
      "text/plain": [
       "            tconst titleType    primaryTitle originalTitle isAdult startYear  \\\n",
       "6959014  tt5700672     movie  Train to Busan    Busanhaeng       0      2016   \n",
       "\n",
       "        endYear runtimeMinutes                  genres  \n",
       "6959014      \\N            118  Action,Horror,Thriller  "
      ]
     },
     "execution_count": 19,
     "metadata": {},
     "output_type": "execute_result"
    }
   ],
   "source": [
    "df_filmes[df_filmes.primaryTitle.str.contains(\"Train to Busan\")]"
   ]
  },
  {
   "cell_type": "code",
   "execution_count": 20,
   "id": "0c756393-66de-447d-bf95-885b698fd317",
   "metadata": {},
   "outputs": [
    {
     "data": {
      "text/html": [
       "<div>\n",
       "<style scoped>\n",
       "    .dataframe tbody tr th:only-of-type {\n",
       "        vertical-align: middle;\n",
       "    }\n",
       "\n",
       "    .dataframe tbody tr th {\n",
       "        vertical-align: top;\n",
       "    }\n",
       "\n",
       "    .dataframe thead th {\n",
       "        text-align: right;\n",
       "    }\n",
       "</style>\n",
       "<table border=\"1\" class=\"dataframe\">\n",
       "  <thead>\n",
       "    <tr style=\"text-align: right;\">\n",
       "      <th></th>\n",
       "      <th>tconst</th>\n",
       "      <th>titleType</th>\n",
       "      <th>primaryTitle</th>\n",
       "      <th>originalTitle</th>\n",
       "      <th>isAdult</th>\n",
       "      <th>startYear</th>\n",
       "      <th>endYear</th>\n",
       "      <th>runtimeMinutes</th>\n",
       "      <th>genres</th>\n",
       "    </tr>\n",
       "  </thead>\n",
       "  <tbody>\n",
       "    <tr>\n",
       "      <th>498</th>\n",
       "      <td>tt0000502</td>\n",
       "      <td>movie</td>\n",
       "      <td>Bohemios</td>\n",
       "      <td>Bohemios</td>\n",
       "      <td>0</td>\n",
       "      <td>1905</td>\n",
       "      <td>\\N</td>\n",
       "      <td>100</td>\n",
       "      <td>\\N</td>\n",
       "    </tr>\n",
       "    <tr>\n",
       "      <th>587</th>\n",
       "      <td>tt0000591</td>\n",
       "      <td>movie</td>\n",
       "      <td>The Prodigal Son</td>\n",
       "      <td>L'enfant prodigue</td>\n",
       "      <td>0</td>\n",
       "      <td>1907</td>\n",
       "      <td>\\N</td>\n",
       "      <td>90</td>\n",
       "      <td>Drama</td>\n",
       "    </tr>\n",
       "    <tr>\n",
       "      <th>610</th>\n",
       "      <td>tt0000615</td>\n",
       "      <td>movie</td>\n",
       "      <td>Robbery Under Arms</td>\n",
       "      <td>Robbery Under Arms</td>\n",
       "      <td>0</td>\n",
       "      <td>1907</td>\n",
       "      <td>\\N</td>\n",
       "      <td>\\N</td>\n",
       "      <td>Drama</td>\n",
       "    </tr>\n",
       "    <tr>\n",
       "      <th>625</th>\n",
       "      <td>tt0000630</td>\n",
       "      <td>movie</td>\n",
       "      <td>Hamlet</td>\n",
       "      <td>Amleto</td>\n",
       "      <td>0</td>\n",
       "      <td>1908</td>\n",
       "      <td>\\N</td>\n",
       "      <td>\\N</td>\n",
       "      <td>Drama</td>\n",
       "    </tr>\n",
       "    <tr>\n",
       "      <th>668</th>\n",
       "      <td>tt0000675</td>\n",
       "      <td>movie</td>\n",
       "      <td>Don Quijote</td>\n",
       "      <td>Don Quijote</td>\n",
       "      <td>0</td>\n",
       "      <td>1908</td>\n",
       "      <td>\\N</td>\n",
       "      <td>\\N</td>\n",
       "      <td>Drama</td>\n",
       "    </tr>\n",
       "    <tr>\n",
       "      <th>...</th>\n",
       "      <td>...</td>\n",
       "      <td>...</td>\n",
       "      <td>...</td>\n",
       "      <td>...</td>\n",
       "      <td>...</td>\n",
       "      <td>...</td>\n",
       "      <td>...</td>\n",
       "      <td>...</td>\n",
       "      <td>...</td>\n",
       "    </tr>\n",
       "    <tr>\n",
       "      <th>8880091</th>\n",
       "      <td>tt9916622</td>\n",
       "      <td>movie</td>\n",
       "      <td>Rodolpho Teóphilo - O Legado de um Pioneiro</td>\n",
       "      <td>Rodolpho Teóphilo - O Legado de um Pioneiro</td>\n",
       "      <td>0</td>\n",
       "      <td>2015</td>\n",
       "      <td>\\N</td>\n",
       "      <td>57</td>\n",
       "      <td>Documentary</td>\n",
       "    </tr>\n",
       "    <tr>\n",
       "      <th>8880118</th>\n",
       "      <td>tt9916680</td>\n",
       "      <td>movie</td>\n",
       "      <td>De la ilusión al desconcierto: cine colombiano...</td>\n",
       "      <td>De la ilusión al desconcierto: cine colombiano...</td>\n",
       "      <td>0</td>\n",
       "      <td>2007</td>\n",
       "      <td>\\N</td>\n",
       "      <td>100</td>\n",
       "      <td>Documentary</td>\n",
       "    </tr>\n",
       "    <tr>\n",
       "      <th>8880130</th>\n",
       "      <td>tt9916706</td>\n",
       "      <td>movie</td>\n",
       "      <td>Dankyavar Danka</td>\n",
       "      <td>Dankyavar Danka</td>\n",
       "      <td>0</td>\n",
       "      <td>2013</td>\n",
       "      <td>\\N</td>\n",
       "      <td>\\N</td>\n",
       "      <td>Comedy</td>\n",
       "    </tr>\n",
       "    <tr>\n",
       "      <th>8880141</th>\n",
       "      <td>tt9916730</td>\n",
       "      <td>movie</td>\n",
       "      <td>6 Gunn</td>\n",
       "      <td>6 Gunn</td>\n",
       "      <td>0</td>\n",
       "      <td>2017</td>\n",
       "      <td>\\N</td>\n",
       "      <td>116</td>\n",
       "      <td>\\N</td>\n",
       "    </tr>\n",
       "    <tr>\n",
       "      <th>8880151</th>\n",
       "      <td>tt9916754</td>\n",
       "      <td>movie</td>\n",
       "      <td>Chico Albuquerque - Revelações</td>\n",
       "      <td>Chico Albuquerque - Revelações</td>\n",
       "      <td>0</td>\n",
       "      <td>2013</td>\n",
       "      <td>\\N</td>\n",
       "      <td>49</td>\n",
       "      <td>Documentary</td>\n",
       "    </tr>\n",
       "  </tbody>\n",
       "</table>\n",
       "<p>410558 rows × 9 columns</p>\n",
       "</div>"
      ],
      "text/plain": [
       "            tconst titleType  \\\n",
       "498      tt0000502     movie   \n",
       "587      tt0000591     movie   \n",
       "610      tt0000615     movie   \n",
       "625      tt0000630     movie   \n",
       "668      tt0000675     movie   \n",
       "...            ...       ...   \n",
       "8880091  tt9916622     movie   \n",
       "8880118  tt9916680     movie   \n",
       "8880130  tt9916706     movie   \n",
       "8880141  tt9916730     movie   \n",
       "8880151  tt9916754     movie   \n",
       "\n",
       "                                              primaryTitle  \\\n",
       "498                                               Bohemios   \n",
       "587                                       The Prodigal Son   \n",
       "610                                     Robbery Under Arms   \n",
       "625                                                 Hamlet   \n",
       "668                                            Don Quijote   \n",
       "...                                                    ...   \n",
       "8880091        Rodolpho Teóphilo - O Legado de um Pioneiro   \n",
       "8880118  De la ilusión al desconcierto: cine colombiano...   \n",
       "8880130                                    Dankyavar Danka   \n",
       "8880141                                             6 Gunn   \n",
       "8880151                     Chico Albuquerque - Revelações   \n",
       "\n",
       "                                             originalTitle isAdult startYear  \\\n",
       "498                                               Bohemios       0      1905   \n",
       "587                                      L'enfant prodigue       0      1907   \n",
       "610                                     Robbery Under Arms       0      1907   \n",
       "625                                                 Amleto       0      1908   \n",
       "668                                            Don Quijote       0      1908   \n",
       "...                                                    ...     ...       ...   \n",
       "8880091        Rodolpho Teóphilo - O Legado de um Pioneiro       0      2015   \n",
       "8880118  De la ilusión al desconcierto: cine colombiano...       0      2007   \n",
       "8880130                                    Dankyavar Danka       0      2013   \n",
       "8880141                                             6 Gunn       0      2017   \n",
       "8880151                     Chico Albuquerque - Revelações       0      2013   \n",
       "\n",
       "        endYear runtimeMinutes       genres  \n",
       "498          \\N            100           \\N  \n",
       "587          \\N             90        Drama  \n",
       "610          \\N             \\N        Drama  \n",
       "625          \\N             \\N        Drama  \n",
       "668          \\N             \\N        Drama  \n",
       "...         ...            ...          ...  \n",
       "8880091      \\N             57  Documentary  \n",
       "8880118      \\N            100  Documentary  \n",
       "8880130      \\N             \\N       Comedy  \n",
       "8880141      \\N            116           \\N  \n",
       "8880151      \\N             49  Documentary  \n",
       "\n",
       "[410558 rows x 9 columns]"
      ]
     },
     "execution_count": 20,
     "metadata": {},
     "output_type": "execute_result"
    }
   ],
   "source": [
    "df_filmes[~df_filmes.genres.str.contains(\",\")]"
   ]
  },
  {
   "cell_type": "code",
   "execution_count": null,
   "id": "9b26cc3c-b625-40a1-8037-096142d3d772",
   "metadata": {},
   "outputs": [],
   "source": []
  }
 ],
 "metadata": {
  "kernelspec": {
   "display_name": "Python 3 (ipykernel)",
   "language": "python",
   "name": "python3"
  },
  "language_info": {
   "codemirror_mode": {
    "name": "ipython",
    "version": 3
   },
   "file_extension": ".py",
   "mimetype": "text/x-python",
   "name": "python",
   "nbconvert_exporter": "python",
   "pygments_lexer": "ipython3",
   "version": "3.10.0"
  }
 },
 "nbformat": 4,
 "nbformat_minor": 5
}
